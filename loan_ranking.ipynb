{
 "cells": [
  {
   "cell_type": "markdown",
   "metadata": {},
   "source": [
    "## Pre-Processing Data"
   ]
  },
  {
   "cell_type": "code",
   "execution_count": 1,
   "metadata": {},
   "outputs": [],
   "source": [
    "#import library\n",
    "import pandas as pd\n",
    "import numpy as np"
   ]
  },
  {
   "cell_type": "code",
   "execution_count": 2,
   "metadata": {},
   "outputs": [
    {
     "data": {
      "text/plain": [
       "SK_ID_PREV       0\n",
       "LN_ID            0\n",
       "INST_NUMBER      0\n",
       "INST_DAYS        0\n",
       "PAY_DAYS       673\n",
       "AMT_INST         0\n",
       "AMT_PAY        673\n",
       "dtype: int64"
      ]
     },
     "execution_count": 2,
     "metadata": {},
     "output_type": "execute_result"
    }
   ],
   "source": [
    "#input data installment.csv \n",
    "installment = pd.read_csv('installment_payment.csv')\n",
    "installment = installment.drop(['Unnamed: 0'], axis = 1)\n",
    "installment.isnull().sum()"
   ]
  },
  {
   "cell_type": "code",
   "execution_count": 3,
   "metadata": {},
   "outputs": [
    {
     "data": {
      "text/plain": [
       "SK_ID_PREV     0\n",
       "LN_ID          0\n",
       "INST_NUMBER    0\n",
       "INST_DAYS      0\n",
       "PAY_DAYS       0\n",
       "AMT_INST       0\n",
       "AMT_PAY        0\n",
       "dtype: int64"
      ]
     },
     "execution_count": 3,
     "metadata": {},
     "output_type": "execute_result"
    }
   ],
   "source": [
    "#mengisi nilai null pada data installment dengan nilai 0\n",
    "installment = installment.fillna(value = 0)\n",
    "installment.isnull().sum()"
   ]
  },
  {
   "cell_type": "code",
   "execution_count": 4,
   "metadata": {},
   "outputs": [],
   "source": [
    "#mengambil item pada atribut SK_ID_PREV\n",
    "id_prev = installment.SK_ID_PREV.unique()"
   ]
  },
  {
   "cell_type": "code",
   "execution_count": 5,
   "metadata": {},
   "outputs": [],
   "source": [
    "#melihat histori pembayaran cicilan dari debitur di pinjaman sebelumnya\n",
    "telat = []\n",
    "uang = []\n",
    "hari = []\n",
    "ln_id = []\n",
    "\n",
    "for item in id_prev:\n",
    "    t = 0\n",
    "    u = 0\n",
    "    data = installment[installment.SK_ID_PREV ==item]\n",
    "    inst_days = data['INST_DAYS'].to_list()\n",
    "    pay_days = data['PAY_DAYS'].to_list()\n",
    "    amt_inst = data['AMT_INST'].to_list()\n",
    "    amt_pay = data['AMT_PAY'].to_list()\n",
    "    id_ln = data['LN_ID'].to_list()\n",
    "    for i in range(len(inst_days)):\n",
    "        if inst_days[i] - pay_days[i] >= 30:\n",
    "            t = t + 1\n",
    "        if amt_inst[i] - amt_pay[i] != 0:\n",
    "            u = u + 1\n",
    "    telat.append(t)\n",
    "    uang.append(u)\n",
    "    hari.append(len(data))\n",
    "    ln_id.append(id_ln[0])"
   ]
  },
  {
   "cell_type": "code",
   "execution_count": 6,
   "metadata": {},
   "outputs": [
    {
     "data": {
      "text/html": [
       "<div>\n",
       "<style scoped>\n",
       "    .dataframe tbody tr th:only-of-type {\n",
       "        vertical-align: middle;\n",
       "    }\n",
       "\n",
       "    .dataframe tbody tr th {\n",
       "        vertical-align: top;\n",
       "    }\n",
       "\n",
       "    .dataframe thead th {\n",
       "        text-align: right;\n",
       "    }\n",
       "</style>\n",
       "<table border=\"1\" class=\"dataframe\">\n",
       "  <thead>\n",
       "    <tr style=\"text-align: right;\">\n",
       "      <th></th>\n",
       "      <th>SK_ID_PREV</th>\n",
       "      <th>LN_ID</th>\n",
       "      <th>TERM_PAYMENT</th>\n",
       "      <th>LATE_FREQUENCY</th>\n",
       "      <th>MINUS</th>\n",
       "    </tr>\n",
       "  </thead>\n",
       "  <tbody>\n",
       "    <tr>\n",
       "      <td>92610</td>\n",
       "      <td>1000020</td>\n",
       "      <td>299072</td>\n",
       "      <td>12</td>\n",
       "      <td>0</td>\n",
       "      <td>0</td>\n",
       "    </tr>\n",
       "    <tr>\n",
       "      <td>199036</td>\n",
       "      <td>1000023</td>\n",
       "      <td>350748</td>\n",
       "      <td>4</td>\n",
       "      <td>0</td>\n",
       "      <td>0</td>\n",
       "    </tr>\n",
       "    <tr>\n",
       "      <td>149028</td>\n",
       "      <td>1000024</td>\n",
       "      <td>448518</td>\n",
       "      <td>12</td>\n",
       "      <td>0</td>\n",
       "      <td>0</td>\n",
       "    </tr>\n",
       "    <tr>\n",
       "      <td>91718</td>\n",
       "      <td>1000026</td>\n",
       "      <td>227096</td>\n",
       "      <td>4</td>\n",
       "      <td>0</td>\n",
       "      <td>0</td>\n",
       "    </tr>\n",
       "    <tr>\n",
       "      <td>67043</td>\n",
       "      <td>1000027</td>\n",
       "      <td>277601</td>\n",
       "      <td>6</td>\n",
       "      <td>0</td>\n",
       "      <td>0</td>\n",
       "    </tr>\n",
       "    <tr>\n",
       "      <td>...</td>\n",
       "      <td>...</td>\n",
       "      <td>...</td>\n",
       "      <td>...</td>\n",
       "      <td>...</td>\n",
       "      <td>...</td>\n",
       "    </tr>\n",
       "    <tr>\n",
       "      <td>185707</td>\n",
       "      <td>2843484</td>\n",
       "      <td>229590</td>\n",
       "      <td>16</td>\n",
       "      <td>2</td>\n",
       "      <td>8</td>\n",
       "    </tr>\n",
       "    <tr>\n",
       "      <td>101411</td>\n",
       "      <td>2843489</td>\n",
       "      <td>387308</td>\n",
       "      <td>25</td>\n",
       "      <td>1</td>\n",
       "      <td>2</td>\n",
       "    </tr>\n",
       "    <tr>\n",
       "      <td>90350</td>\n",
       "      <td>2843490</td>\n",
       "      <td>294719</td>\n",
       "      <td>4</td>\n",
       "      <td>0</td>\n",
       "      <td>0</td>\n",
       "    </tr>\n",
       "    <tr>\n",
       "      <td>105228</td>\n",
       "      <td>2843493</td>\n",
       "      <td>337804</td>\n",
       "      <td>31</td>\n",
       "      <td>0</td>\n",
       "      <td>2</td>\n",
       "    </tr>\n",
       "    <tr>\n",
       "      <td>113476</td>\n",
       "      <td>2843498</td>\n",
       "      <td>393881</td>\n",
       "      <td>6</td>\n",
       "      <td>0</td>\n",
       "      <td>0</td>\n",
       "    </tr>\n",
       "  </tbody>\n",
       "</table>\n",
       "<p>211734 rows × 5 columns</p>\n",
       "</div>"
      ],
      "text/plain": [
       "        SK_ID_PREV   LN_ID  TERM_PAYMENT  LATE_FREQUENCY  MINUS\n",
       "92610      1000020  299072            12               0      0\n",
       "199036     1000023  350748             4               0      0\n",
       "149028     1000024  448518            12               0      0\n",
       "91718      1000026  227096             4               0      0\n",
       "67043      1000027  277601             6               0      0\n",
       "...            ...     ...           ...             ...    ...\n",
       "185707     2843484  229590            16               2      8\n",
       "101411     2843489  387308            25               1      2\n",
       "90350      2843490  294719             4               0      0\n",
       "105228     2843493  337804            31               0      2\n",
       "113476     2843498  393881             6               0      0\n",
       "\n",
       "[211734 rows x 5 columns]"
      ]
     },
     "execution_count": 6,
     "metadata": {},
     "output_type": "execute_result"
    }
   ],
   "source": [
    "data_installment = {'SK_ID_PREV': id_prev, 'LN_ID': ln_id, 'TERM_PAYMENT': hari, 'LATE_FREQUENCY': telat, 'MINUS': uang}\n",
    "data_installment = pd.DataFrame(data_installment)\n",
    "data_installment = data_installment.sort_values(['SK_ID_PREV'], ascending=[True])\n",
    "data_installment"
   ]
  },
  {
   "cell_type": "code",
   "execution_count": 7,
   "metadata": {},
   "outputs": [
    {
     "data": {
      "text/plain": [
       "SK_ID_PREV                        0\n",
       "LN_ID                             0\n",
       "CONTRACT_TYPE                     0\n",
       "ANNUITY                       76609\n",
       "APPLICATION                       0\n",
       "APPROVED_CREDIT                   0\n",
       "AMT_DOWN_PAYMENT             186507\n",
       "PRICE                         79640\n",
       "WEEKDAYS_APPLY                    0\n",
       "HOUR_APPLY                        0\n",
       "CONTRACT_STATUS                   0\n",
       "DAYS_DECISION                     0\n",
       "TERM_PAYMENT                  76609\n",
       "YIELD_GROUP                       0\n",
       "FIRST_DRAW                   139305\n",
       "FIRST_DUE                    139305\n",
       "TERMINATION                  139305\n",
       "NFLAG_INSURED_ON_APPROVAL    139305\n",
       "dtype: int64"
      ]
     },
     "execution_count": 7,
     "metadata": {},
     "output_type": "execute_result"
    }
   ],
   "source": [
    "#input data prev_app.csv (data pinjaman debitur di periode sebelumnya)\n",
    "prev = pd.read_csv('prev_app.csv')\n",
    "prev = prev.drop(['Unnamed: 0'], axis = 1)\n",
    "prev.isnull().sum()"
   ]
  },
  {
   "cell_type": "code",
   "execution_count": 8,
   "metadata": {},
   "outputs": [
    {
     "data": {
      "text/plain": [
       "SK_ID_PREV             0\n",
       "LN_ID                  0\n",
       "APPROVED_CREDIT        0\n",
       "CONTRACT_STATUS        0\n",
       "TERM_PAYMENT       76609\n",
       "YIELD_GROUP            0\n",
       "dtype: int64"
      ]
     },
     "execution_count": 8,
     "metadata": {},
     "output_type": "execute_result"
    }
   ],
   "source": [
    "#mengambil atribut yang penting untuk melihat kemampuan pembayaran cicilan debitur di pinjaman sebelumnya\n",
    "data_prev = prev.drop(['CONTRACT_TYPE', 'ANNUITY', 'APPLICATION', 'AMT_DOWN_PAYMENT', 'PRICE', 'WEEKDAYS_APPLY', 'HOUR_APPLY', 'DAYS_DECISION', 'FIRST_DRAW', 'FIRST_DUE', 'TERMINATION', 'NFLAG_INSURED_ON_APPROVAL'], axis = 1)\n",
    "data_prev = data_prev.sort_values(['SK_ID_PREV'], ascending=[True])\n",
    "data_prev.isnull().sum()"
   ]
  },
  {
   "cell_type": "code",
   "execution_count": 9,
   "metadata": {},
   "outputs": [],
   "source": [
    "#mengisi data yang kosong dengan 0\n",
    "data_prev = data_prev.fillna(value = 0)"
   ]
  },
  {
   "cell_type": "code",
   "execution_count": 10,
   "metadata": {},
   "outputs": [],
   "source": [
    "#menyingkronisasikan data histori cicilan dan pinjaman (apakah cicilan yang dibayarkan dan periode cicilan sesuai dengan aplikasi kredit)\n",
    "sk_id_prev = data_prev.SK_ID_PREV.unique()\n",
    "\n",
    "lf = []\n",
    "mi = []\n",
    "p = []\n",
    "for item in sk_id_prev:\n",
    "    data1 = data_installment[data_installment.SK_ID_PREV==item]\n",
    "    data2 = data_prev[data_prev.SK_ID_PREV==item]\n",
    "    tp1 = data1['TERM_PAYMENT'].to_list()\n",
    "    tp2 = data2['TERM_PAYMENT'].to_list()\n",
    "    if tp1 == tp2:\n",
    "        p.append(0)\n",
    "    else:\n",
    "        p.append(1)\n",
    "    l = data1['LATE_FREQUENCY'].to_list()\n",
    "    m = data1['MINUS'].to_list()\n",
    "    if len(data1) != 0:\n",
    "        lf.append(l[0])\n",
    "        mi.append(m[0])\n",
    "    elif len(data1) == 0:\n",
    "        lf.append(0)\n",
    "        mi.append(0)"
   ]
  },
  {
   "cell_type": "code",
   "execution_count": 11,
   "metadata": {},
   "outputs": [
    {
     "data": {
      "text/html": [
       "<div>\n",
       "<style scoped>\n",
       "    .dataframe tbody tr th:only-of-type {\n",
       "        vertical-align: middle;\n",
       "    }\n",
       "\n",
       "    .dataframe tbody tr th {\n",
       "        vertical-align: top;\n",
       "    }\n",
       "\n",
       "    .dataframe thead th {\n",
       "        text-align: right;\n",
       "    }\n",
       "</style>\n",
       "<table border=\"1\" class=\"dataframe\">\n",
       "  <thead>\n",
       "    <tr style=\"text-align: right;\">\n",
       "      <th></th>\n",
       "      <th>SK_ID_PREV</th>\n",
       "      <th>LN_ID</th>\n",
       "      <th>APPROVED_CREDIT</th>\n",
       "      <th>CONTRACT_STATUS</th>\n",
       "      <th>TERM_PAYMENT</th>\n",
       "      <th>YIELD_GROUP</th>\n",
       "      <th>LATE_FREQUENCY</th>\n",
       "      <th>MINUS</th>\n",
       "    </tr>\n",
       "  </thead>\n",
       "  <tbody>\n",
       "    <tr>\n",
       "      <td>30136</td>\n",
       "      <td>1000020</td>\n",
       "      <td>299072</td>\n",
       "      <td>164961.0</td>\n",
       "      <td>Approved</td>\n",
       "      <td>0</td>\n",
       "      <td>high</td>\n",
       "      <td>0</td>\n",
       "      <td>0</td>\n",
       "    </tr>\n",
       "    <tr>\n",
       "      <td>343046</td>\n",
       "      <td>1000023</td>\n",
       "      <td>350748</td>\n",
       "      <td>81130.5</td>\n",
       "      <td>Approved</td>\n",
       "      <td>1</td>\n",
       "      <td>high</td>\n",
       "      <td>0</td>\n",
       "      <td>0</td>\n",
       "    </tr>\n",
       "    <tr>\n",
       "      <td>138097</td>\n",
       "      <td>1000024</td>\n",
       "      <td>448518</td>\n",
       "      <td>24430.5</td>\n",
       "      <td>Approved</td>\n",
       "      <td>0</td>\n",
       "      <td>high</td>\n",
       "      <td>0</td>\n",
       "      <td>0</td>\n",
       "    </tr>\n",
       "    <tr>\n",
       "      <td>100632</td>\n",
       "      <td>1000026</td>\n",
       "      <td>227096</td>\n",
       "      <td>129811.5</td>\n",
       "      <td>Approved</td>\n",
       "      <td>1</td>\n",
       "      <td>low_normal</td>\n",
       "      <td>0</td>\n",
       "      <td>0</td>\n",
       "    </tr>\n",
       "    <tr>\n",
       "      <td>49431</td>\n",
       "      <td>1000027</td>\n",
       "      <td>277601</td>\n",
       "      <td>46485.0</td>\n",
       "      <td>Approved</td>\n",
       "      <td>0</td>\n",
       "      <td>middle</td>\n",
       "      <td>0</td>\n",
       "      <td>0</td>\n",
       "    </tr>\n",
       "    <tr>\n",
       "      <td>...</td>\n",
       "      <td>...</td>\n",
       "      <td>...</td>\n",
       "      <td>...</td>\n",
       "      <td>...</td>\n",
       "      <td>...</td>\n",
       "      <td>...</td>\n",
       "      <td>...</td>\n",
       "      <td>...</td>\n",
       "    </tr>\n",
       "    <tr>\n",
       "      <td>157839</td>\n",
       "      <td>2845335</td>\n",
       "      <td>310483</td>\n",
       "      <td>0.0</td>\n",
       "      <td>Canceled</td>\n",
       "      <td>1</td>\n",
       "      <td>NA1</td>\n",
       "      <td>0</td>\n",
       "      <td>0</td>\n",
       "    </tr>\n",
       "    <tr>\n",
       "      <td>210392</td>\n",
       "      <td>2845361</td>\n",
       "      <td>337717</td>\n",
       "      <td>0.0</td>\n",
       "      <td>Canceled</td>\n",
       "      <td>1</td>\n",
       "      <td>NA1</td>\n",
       "      <td>0</td>\n",
       "      <td>0</td>\n",
       "    </tr>\n",
       "    <tr>\n",
       "      <td>274218</td>\n",
       "      <td>2845369</td>\n",
       "      <td>445190</td>\n",
       "      <td>98383.5</td>\n",
       "      <td>Refused</td>\n",
       "      <td>1</td>\n",
       "      <td>middle</td>\n",
       "      <td>0</td>\n",
       "      <td>0</td>\n",
       "    </tr>\n",
       "    <tr>\n",
       "      <td>60746</td>\n",
       "      <td>2845378</td>\n",
       "      <td>100125</td>\n",
       "      <td>59503.5</td>\n",
       "      <td>Refused</td>\n",
       "      <td>1</td>\n",
       "      <td>middle</td>\n",
       "      <td>0</td>\n",
       "      <td>0</td>\n",
       "    </tr>\n",
       "    <tr>\n",
       "      <td>121261</td>\n",
       "      <td>2845381</td>\n",
       "      <td>140761</td>\n",
       "      <td>41499.0</td>\n",
       "      <td>Unused offer</td>\n",
       "      <td>1</td>\n",
       "      <td>NA1</td>\n",
       "      <td>0</td>\n",
       "      <td>0</td>\n",
       "    </tr>\n",
       "  </tbody>\n",
       "</table>\n",
       "<p>350712 rows × 8 columns</p>\n",
       "</div>"
      ],
      "text/plain": [
       "        SK_ID_PREV   LN_ID  APPROVED_CREDIT CONTRACT_STATUS  TERM_PAYMENT  \\\n",
       "30136      1000020  299072         164961.0        Approved             0   \n",
       "343046     1000023  350748          81130.5        Approved             1   \n",
       "138097     1000024  448518          24430.5        Approved             0   \n",
       "100632     1000026  227096         129811.5        Approved             1   \n",
       "49431      1000027  277601          46485.0        Approved             0   \n",
       "...            ...     ...              ...             ...           ...   \n",
       "157839     2845335  310483              0.0        Canceled             1   \n",
       "210392     2845361  337717              0.0        Canceled             1   \n",
       "274218     2845369  445190          98383.5         Refused             1   \n",
       "60746      2845378  100125          59503.5         Refused             1   \n",
       "121261     2845381  140761          41499.0    Unused offer             1   \n",
       "\n",
       "       YIELD_GROUP  LATE_FREQUENCY  MINUS  \n",
       "30136         high               0      0  \n",
       "343046        high               0      0  \n",
       "138097        high               0      0  \n",
       "100632  low_normal               0      0  \n",
       "49431       middle               0      0  \n",
       "...            ...             ...    ...  \n",
       "157839         NA1               0      0  \n",
       "210392         NA1               0      0  \n",
       "274218      middle               0      0  \n",
       "60746       middle               0      0  \n",
       "121261         NA1               0      0  \n",
       "\n",
       "[350712 rows x 8 columns]"
      ]
     },
     "execution_count": 11,
     "metadata": {},
     "output_type": "execute_result"
    }
   ],
   "source": [
    "data_prev['LATE_FREQUENCY'] = lf\n",
    "data_prev['MINUS'] = mi\n",
    "data_prev['TERM_PAYMENT'] = p\n",
    "data_prev"
   ]
  },
  {
   "cell_type": "code",
   "execution_count": 12,
   "metadata": {},
   "outputs": [
    {
     "name": "stdout",
     "output_type": "stream",
     "text": [
      "['high' 'low_normal' 'middle' 'NA1' 'low_action']\n",
      "['Approved' 'Refused' 'Canceled' 'Unused offer']\n"
     ]
    }
   ],
   "source": [
    "print(data_prev.YIELD_GROUP.unique())\n",
    "print(data_prev.CONTRACT_STATUS.unique())"
   ]
  },
  {
   "cell_type": "code",
   "execution_count": 13,
   "metadata": {},
   "outputs": [],
   "source": [
    "#mengkategorikan atribut kontrak status dan tingkat suku bunga ke dalam nilai angka\n",
    "cs = data_prev['CONTRACT_STATUS'].to_list()\n",
    "yg = data_prev['YIELD_GROUP'].to_list()\n",
    "cc = []\n",
    "yy = []\n",
    "for i in range(len(cs)):\n",
    "    if cs[i] == 'Approved':\n",
    "        c = 0\n",
    "    elif cs[i] == 'Refused':\n",
    "        c = 1\n",
    "    elif cs[i] == 'Canceled':\n",
    "        c = 2\n",
    "    elif cs[i] == 'Unused offer':\n",
    "        c = 3\n",
    "    if yg[i] == 'high':\n",
    "        y = 2\n",
    "    elif yg[i] == 'low_normal':\n",
    "        y = 0\n",
    "    elif yg[i] == 'middle':\n",
    "        y = 1\n",
    "    elif yg[i] == 'NA1':\n",
    "        y = 3\n",
    "    elif yg[i] == 'low_action':\n",
    "        y = 4\n",
    "    cc.append(c)\n",
    "    yy.append(y)\n",
    "\n",
    "data_prev['CONTRACT_STATUS'] = cc\n",
    "data_prev['YIELD_GROUP'] = yy\n",
    "data_prev = data_prev.drop(['SK_ID_PREV'], axis = 1)"
   ]
  },
  {
   "cell_type": "code",
   "execution_count": 14,
   "metadata": {},
   "outputs": [
    {
     "data": {
      "text/html": [
       "<div>\n",
       "<style scoped>\n",
       "    .dataframe tbody tr th:only-of-type {\n",
       "        vertical-align: middle;\n",
       "    }\n",
       "\n",
       "    .dataframe tbody tr th {\n",
       "        vertical-align: top;\n",
       "    }\n",
       "\n",
       "    .dataframe thead th {\n",
       "        text-align: right;\n",
       "    }\n",
       "</style>\n",
       "<table border=\"1\" class=\"dataframe\">\n",
       "  <thead>\n",
       "    <tr style=\"text-align: right;\">\n",
       "      <th></th>\n",
       "      <th>LN_ID</th>\n",
       "      <th>APPROVED_CREDIT</th>\n",
       "      <th>CONTRACT_STATUS</th>\n",
       "      <th>TERM_PAYMENT</th>\n",
       "      <th>YIELD_GROUP</th>\n",
       "      <th>LATE_FREQUENCY</th>\n",
       "      <th>MINUS</th>\n",
       "    </tr>\n",
       "  </thead>\n",
       "  <tbody>\n",
       "    <tr>\n",
       "      <td>17283</td>\n",
       "      <td>100009</td>\n",
       "      <td>70137.642857</td>\n",
       "      <td>0.00</td>\n",
       "      <td>0.142857</td>\n",
       "      <td>1.571429</td>\n",
       "      <td>0.00</td>\n",
       "      <td>0.0</td>\n",
       "    </tr>\n",
       "    <tr>\n",
       "      <td>5098</td>\n",
       "      <td>100039</td>\n",
       "      <td>383785.875000</td>\n",
       "      <td>0.50</td>\n",
       "      <td>0.750000</td>\n",
       "      <td>1.750000</td>\n",
       "      <td>2.00</td>\n",
       "      <td>1.5</td>\n",
       "    </tr>\n",
       "    <tr>\n",
       "      <td>20177</td>\n",
       "      <td>100044</td>\n",
       "      <td>299743.875000</td>\n",
       "      <td>0.00</td>\n",
       "      <td>0.750000</td>\n",
       "      <td>1.000000</td>\n",
       "      <td>4.00</td>\n",
       "      <td>1.5</td>\n",
       "    </tr>\n",
       "    <tr>\n",
       "      <td>34847</td>\n",
       "      <td>100045</td>\n",
       "      <td>368978.625000</td>\n",
       "      <td>0.00</td>\n",
       "      <td>0.500000</td>\n",
       "      <td>1.000000</td>\n",
       "      <td>0.25</td>\n",
       "      <td>1.5</td>\n",
       "    </tr>\n",
       "    <tr>\n",
       "      <td>29186</td>\n",
       "      <td>100046</td>\n",
       "      <td>481817.250000</td>\n",
       "      <td>0.50</td>\n",
       "      <td>1.000000</td>\n",
       "      <td>0.000000</td>\n",
       "      <td>0.00</td>\n",
       "      <td>0.0</td>\n",
       "    </tr>\n",
       "    <tr>\n",
       "      <td>...</td>\n",
       "      <td>...</td>\n",
       "      <td>...</td>\n",
       "      <td>...</td>\n",
       "      <td>...</td>\n",
       "      <td>...</td>\n",
       "      <td>...</td>\n",
       "      <td>...</td>\n",
       "    </tr>\n",
       "    <tr>\n",
       "      <td>41345</td>\n",
       "      <td>456247</td>\n",
       "      <td>59184.000000</td>\n",
       "      <td>0.20</td>\n",
       "      <td>0.400000</td>\n",
       "      <td>1.000000</td>\n",
       "      <td>0.00</td>\n",
       "      <td>0.0</td>\n",
       "    </tr>\n",
       "    <tr>\n",
       "      <td>20073</td>\n",
       "      <td>456248</td>\n",
       "      <td>636604.875000</td>\n",
       "      <td>0.00</td>\n",
       "      <td>0.500000</td>\n",
       "      <td>2.500000</td>\n",
       "      <td>0.50</td>\n",
       "      <td>2.0</td>\n",
       "    </tr>\n",
       "    <tr>\n",
       "      <td>70814</td>\n",
       "      <td>456249</td>\n",
       "      <td>158699.250000</td>\n",
       "      <td>0.50</td>\n",
       "      <td>0.500000</td>\n",
       "      <td>3.000000</td>\n",
       "      <td>0.00</td>\n",
       "      <td>0.0</td>\n",
       "    </tr>\n",
       "    <tr>\n",
       "      <td>47929</td>\n",
       "      <td>456252</td>\n",
       "      <td>56821.500000</td>\n",
       "      <td>0.00</td>\n",
       "      <td>0.000000</td>\n",
       "      <td>0.000000</td>\n",
       "      <td>0.00</td>\n",
       "      <td>0.0</td>\n",
       "    </tr>\n",
       "    <tr>\n",
       "      <td>24810</td>\n",
       "      <td>456255</td>\n",
       "      <td>424431.000000</td>\n",
       "      <td>0.25</td>\n",
       "      <td>1.000000</td>\n",
       "      <td>1.250000</td>\n",
       "      <td>0.50</td>\n",
       "      <td>2.5</td>\n",
       "    </tr>\n",
       "  </tbody>\n",
       "</table>\n",
       "<p>72135 rows × 7 columns</p>\n",
       "</div>"
      ],
      "text/plain": [
       "        LN_ID  APPROVED_CREDIT  CONTRACT_STATUS  TERM_PAYMENT  YIELD_GROUP  \\\n",
       "17283  100009     70137.642857             0.00      0.142857     1.571429   \n",
       "5098   100039    383785.875000             0.50      0.750000     1.750000   \n",
       "20177  100044    299743.875000             0.00      0.750000     1.000000   \n",
       "34847  100045    368978.625000             0.00      0.500000     1.000000   \n",
       "29186  100046    481817.250000             0.50      1.000000     0.000000   \n",
       "...       ...              ...              ...           ...          ...   \n",
       "41345  456247     59184.000000             0.20      0.400000     1.000000   \n",
       "20073  456248    636604.875000             0.00      0.500000     2.500000   \n",
       "70814  456249    158699.250000             0.50      0.500000     3.000000   \n",
       "47929  456252     56821.500000             0.00      0.000000     0.000000   \n",
       "24810  456255    424431.000000             0.25      1.000000     1.250000   \n",
       "\n",
       "       LATE_FREQUENCY  MINUS  \n",
       "17283            0.00    0.0  \n",
       "5098             2.00    1.5  \n",
       "20177            4.00    1.5  \n",
       "34847            0.25    1.5  \n",
       "29186            0.00    0.0  \n",
       "...               ...    ...  \n",
       "41345            0.00    0.0  \n",
       "20073            0.50    2.0  \n",
       "70814            0.00    0.0  \n",
       "47929            0.00    0.0  \n",
       "24810            0.50    2.5  \n",
       "\n",
       "[72135 rows x 7 columns]"
      ]
     },
     "execution_count": 14,
     "metadata": {},
     "output_type": "execute_result"
    }
   ],
   "source": [
    "ln_id = data_prev.LN_ID.unique()\n",
    "aa = []\n",
    "bb = []\n",
    "cc = []\n",
    "dd = []\n",
    "ee = []\n",
    "ff = []\n",
    "for item in ln_id:\n",
    "    data = data_prev[data_prev.LN_ID==item]\n",
    "    APPROVED_CREDIT = data['APPROVED_CREDIT'].to_list()\n",
    "    CONTRACT_STATUS = data['CONTRACT_STATUS'].to_list()\n",
    "    TERM_PAYMENT = data['TERM_PAYMENT'].to_list()\n",
    "    YIELD_GROUP = data['YIELD_GROUP'].to_list()\n",
    "    LATE_FREQUENCY = data['LATE_FREQUENCY'].to_list()\n",
    "    MINUS = data['MINUS'].to_list()\n",
    "    a = sum(APPROVED_CREDIT)/len(data)\n",
    "    b = sum(CONTRACT_STATUS)/len(data)\n",
    "    c = sum(TERM_PAYMENT)/len(data)\n",
    "    d = sum(YIELD_GROUP)/len(data)\n",
    "    e = sum(LATE_FREQUENCY)/len(data)\n",
    "    f = sum(MINUS)/len(data)\n",
    "    aa.append(a)\n",
    "    bb.append(b)\n",
    "    cc.append(c)\n",
    "    dd.append(d)\n",
    "    ee.append(e)\n",
    "    ff.append(f)\n",
    "    \n",
    "data_prevv = {'LN_ID': ln_id, 'APPROVED_CREDIT': aa, 'CONTRACT_STATUS': bb, 'TERM_PAYMENT': cc, 'YIELD_GROUP': dd, 'LATE_FREQUENCY': ee, 'MINUS': ff}\n",
    "data_prevv = pd.DataFrame(data_prevv)\n",
    "data_prevv = data_prevv.sort_values(['LN_ID'], ascending=[True])\n",
    "data_prevv"
   ]
  },
  {
   "cell_type": "code",
   "execution_count": 15,
   "metadata": {},
   "outputs": [],
   "source": [
    "#membuat score untuk atribut yang penting dalam melihat kemampuan debitur dalam membayar kredit\n",
    "ln_id = data_prevv.LN_ID.unique()\n",
    "mean = sum(data_prevv['APPROVED_CREDIT'])/len(data_prevv['APPROVED_CREDIT'])\n",
    "j = []\n",
    "for item in ln_id:\n",
    "    data = data_prevv[data_prevv.LN_ID==item]\n",
    "    cs = data['CONTRACT_STATUS'].to_list()\n",
    "    tp = data['TERM_PAYMENT'].to_list()\n",
    "    yg = data['YIELD_GROUP'].to_list()\n",
    "    lf = data['LATE_FREQUENCY'].to_list()\n",
    "    m = data['MINUS'].to_list()\n",
    "    if cs[0] >= mean:\n",
    "        cs = 0\n",
    "    elif cs[0] < mean:\n",
    "        cs = 1\n",
    "    jum = cs+tp[0]+yg[0]+lf[0]+m[0]\n",
    "    j.append(jum)\n",
    "\n",
    "data_prevv['Behavior'] = j"
   ]
  },
  {
   "cell_type": "code",
   "execution_count": 16,
   "metadata": {},
   "outputs": [
    {
     "data": {
      "text/plain": [
       "LN_ID                    0\n",
       "TARGET                   0\n",
       "CONTRACT_TYPE            0\n",
       "GENDER                   0\n",
       "NUM_CHILDREN             0\n",
       "INCOME                   0\n",
       "APPROVED_CREDIT          0\n",
       "ANNUITY                  1\n",
       "PRICE                   62\n",
       "INCOME_TYPE              0\n",
       "EDUCATION                0\n",
       "FAMILY_STATUS            0\n",
       "HOUSING_TYPE             0\n",
       "DAYS_AGE                 0\n",
       "DAYS_WORK                0\n",
       "DAYS_REGISTRATION        0\n",
       "DAYS_ID_CHANGE           0\n",
       "WEEKDAYS_APPLY           0\n",
       "HOUR_APPLY               0\n",
       "ORGANIZATION_TYPE        0\n",
       "EXT_SCORE_1          34845\n",
       "EXT_SCORE_2            134\n",
       "EXT_SCORE_3          12239\n",
       "dtype: int64"
      ]
     },
     "execution_count": 16,
     "metadata": {},
     "output_type": "execute_result"
    }
   ],
   "source": [
    "#memasukkan data training\n",
    "data_train = pd.read_csv('app_train.csv')\n",
    "data_train = data_train.drop(['Unnamed: 0'], axis = 1)\n",
    "data_train.isnull().sum()"
   ]
  },
  {
   "cell_type": "code",
   "execution_count": 17,
   "metadata": {},
   "outputs": [],
   "source": [
    "data_train = data_train.drop(['PRICE'], axis = 1)\n",
    "data_train = data_train.fillna(value = 0)\n",
    "data_train = data_train.sort_values(['LN_ID'], ascending=[True])"
   ]
  },
  {
   "cell_type": "code",
   "execution_count": 18,
   "metadata": {},
   "outputs": [
    {
     "name": "stdout",
     "output_type": "stream",
     "text": [
      "['Commercial associate' 'Working' 'Pensioner' 'State servant' 'Unemployed'\n",
      " 'Student' 'Businessman']\n",
      "[1 0 2 3 5 4 6 8 7 9]\n"
     ]
    }
   ],
   "source": [
    "print(data_train.INCOME_TYPE.unique())\n",
    "print(data_train.NUM_CHILDREN.unique())"
   ]
  },
  {
   "cell_type": "code",
   "execution_count": 19,
   "metadata": {},
   "outputs": [],
   "source": [
    "ln_id = data_train.LN_ID.unique()\n",
    "meann = sum(j)/len(j)\n",
    "s = []\n",
    "for item in ln_id:\n",
    "    data = data_train[data_train.LN_ID == item]\n",
    "    data1 = data_prevv[data_prevv.LN_ID == item]\n",
    "    i = data['INCOME'].to_list()\n",
    "    a = data['ANNUITY'].to_list()\n",
    "    r = a[0]/i[0]\n",
    "    c = data['NUM_CHILDREN'].to_list()\n",
    "    if c[0] == 0 or c[0] == 1 or c[0] == 2 or c[0] == 3:\n",
    "        c = 0\n",
    "    else:\n",
    "        c = 1\n",
    "    t = data['TARGET'].to_list()\n",
    "    it = data['INCOME_TYPE'].to_list()\n",
    "    if it[0] == 'Commercial associate' or it[0] == 'State servant' or it[0] == 'Businessman' or it == 'Working':\n",
    "        it = 0\n",
    "    else:\n",
    "        it = 1\n",
    "    b = data1['Behavior'].to_list()\n",
    "    if len(b) == 0:\n",
    "        beh = meann\n",
    "    else:\n",
    "        beh = b[0]\n",
    "    ju = r + c + t[0] + it + beh\n",
    "    s.append(ju)\n",
    "data_train['Behavior'] = s\n",
    "\n",
    "ratas = sum(s)/len(s)\n",
    "a = []\n",
    "for item in s:\n",
    "    if item < ratas/2 :\n",
    "        t = 0\n",
    "    elif item >= ratas/2 and item < ratas :\n",
    "        t = 1\n",
    "    elif item == ratas :\n",
    "        t = 2\n",
    "    elif item > ratas and item <= ratas/2+ratas:\n",
    "        t = 3\n",
    "    elif item > ratas/2+ratas:\n",
    "        t = 4\n",
    "    a.append(t)\n",
    "data_train['Approval'] = a"
   ]
  },
  {
   "cell_type": "code",
   "execution_count": 20,
   "metadata": {},
   "outputs": [
    {
     "data": {
      "text/plain": [
       "LN_ID                   0\n",
       "TARGET                  0\n",
       "CONTRACT_TYPE           0\n",
       "GENDER                  0\n",
       "NUM_CHILDREN            0\n",
       "INCOME                  0\n",
       "APPROVED_CREDIT         0\n",
       "ANNUITY                 0\n",
       "PRICE                  20\n",
       "INCOME_TYPE             0\n",
       "EDUCATION               0\n",
       "FAMILY_STATUS           0\n",
       "HOUSING_TYPE            0\n",
       "DAYS_AGE                0\n",
       "DAYS_WORK               0\n",
       "DAYS_REGISTRATION       0\n",
       "DAYS_ID_CHANGE          0\n",
       "WEEKDAYS_APPLY          0\n",
       "HOUR_APPLY              0\n",
       "ORGANIZATION_TYPE       0\n",
       "EXT_SCORE_1          8312\n",
       "EXT_SCORE_2            19\n",
       "EXT_SCORE_3          2919\n",
       "dtype: int64"
      ]
     },
     "execution_count": 20,
     "metadata": {},
     "output_type": "execute_result"
    }
   ],
   "source": [
    "#memasukkan data testing\n",
    "data_test = pd.read_csv('app_test.csv')\n",
    "data_test = data_test.drop(['Unnamed: 0'], axis = 1)\n",
    "data_test.isnull().sum()"
   ]
  },
  {
   "cell_type": "code",
   "execution_count": 21,
   "metadata": {},
   "outputs": [],
   "source": [
    "data_test = data_test.drop(['PRICE'], axis = 1)\n",
    "data_test = data_test.fillna(value = 0)\n",
    "data_test = data_test.sort_values(['LN_ID'], ascending=[True])"
   ]
  },
  {
   "cell_type": "code",
   "execution_count": 22,
   "metadata": {},
   "outputs": [],
   "source": [
    "ln_id = data_test.LN_ID.unique()\n",
    "meann = sum(j)/len(j)\n",
    "s = []\n",
    "for item in ln_id:\n",
    "    data = data_test[data_test.LN_ID == item]\n",
    "    data1 = data_prevv[data_prevv.LN_ID == item]\n",
    "    i = data['INCOME'].to_list()\n",
    "    a = data['ANNUITY'].to_list()\n",
    "    r = a[0]/i[0]\n",
    "    c = data['NUM_CHILDREN'].to_list()\n",
    "    if c[0] == 0 or c[0] == 1 or c[0] == 2 or c[0] == 3:\n",
    "        c = 0\n",
    "    else:\n",
    "        c = 1\n",
    "    t = data['TARGET'].to_list()\n",
    "    it = data['INCOME_TYPE'].to_list()\n",
    "    if it[0] == 'Commercial associate' or it[0] == 'State servant' or it[0] == 'Businessman' or it == 'Working':\n",
    "        it = 0\n",
    "    else:\n",
    "        it = 1\n",
    "    b = data1['Behavior'].to_list()\n",
    "    if len(b) == 0:\n",
    "        beh = meann\n",
    "    else:\n",
    "        beh = b[0]\n",
    "    ju = r + c + t[0] + it + beh\n",
    "    s.append(ju)\n",
    "data_test['Behavior'] = s\n",
    "\n",
    "ratas = sum(s)/len(s)\n",
    "a = []\n",
    "for item in s:\n",
    "    if item < ratas/2 :\n",
    "        t = 0\n",
    "    elif item >= ratas/2 and item < ratas :\n",
    "        t = 1\n",
    "    elif item == ratas :\n",
    "        t = 2\n",
    "    elif item > ratas and item <= ratas/2+ratas:\n",
    "        t = 3\n",
    "    elif item > ratas/2+ratas:\n",
    "        t = 4\n",
    "    a.append(t)\n",
    "data_test['Approval'] = a"
   ]
  },
  {
   "cell_type": "code",
   "execution_count": 23,
   "metadata": {},
   "outputs": [],
   "source": [
    "#membuat variabel dummy untuk data training\n",
    "contract_type = pd.get_dummies(data_train['CONTRACT_TYPE'], drop_first= True)\n",
    "gender = pd.get_dummies(data_train['GENDER'], drop_first= True)\n",
    "education = pd.get_dummies(data_train['EDUCATION'], drop_first= True)\n",
    "family_status = pd.get_dummies(data_train['FAMILY_STATUS'], drop_first= True)\n",
    "housing_type = pd.get_dummies(data_train['HOUSING_TYPE'], drop_first= True)\n",
    "weekdays_apply = pd.get_dummies(data_train['WEEKDAYS_APPLY'], drop_first= True)\n",
    "organization_type = pd.get_dummies(data_train['ORGANIZATION_TYPE'], drop_first= True)\n",
    "\n",
    "train = pd.concat([data_train, contract_type, gender, education, family_status, weekdays_apply,organization_type], axis = 1)\n",
    "train = train.drop(['INCOME_TYPE','CONTRACT_TYPE','GENDER','INCOME_TYPE','EDUCATION','HOUSING_TYPE','FAMILY_STATUS','WEEKDAYS_APPLY','ORGANIZATION_TYPE'],axis = 1)"
   ]
  },
  {
   "cell_type": "code",
   "execution_count": 24,
   "metadata": {},
   "outputs": [],
   "source": [
    "#membuat variabel dummy untuk data testing\n",
    "contract_type = pd.get_dummies(data_test['CONTRACT_TYPE'], drop_first= True)\n",
    "gender = pd.get_dummies(data_test['GENDER'], drop_first= True)\n",
    "income_type = pd.get_dummies(data_test['INCOME_TYPE'], drop_first= True)\n",
    "education = pd.get_dummies(data_test['EDUCATION'], drop_first= True)\n",
    "family_status = pd.get_dummies(data_test['FAMILY_STATUS'], drop_first= True)\n",
    "housing_type = pd.get_dummies(data_test['HOUSING_TYPE'], drop_first= True)\n",
    "weekdays_apply = pd.get_dummies(data_test['WEEKDAYS_APPLY'], drop_first= True)\n",
    "organization_type = pd.get_dummies(data_test['ORGANIZATION_TYPE'], drop_first= True)\n",
    "\n",
    "test = pd.concat([data_test, contract_type, gender, education, family_status, weekdays_apply,organization_type], axis = 1)\n",
    "test = test.drop(['INCOME_TYPE','CONTRACT_TYPE','GENDER','INCOME_TYPE','EDUCATION','HOUSING_TYPE','FAMILY_STATUS','WEEKDAYS_APPLY','ORGANIZATION_TYPE'],axis = 1)"
   ]
  },
  {
   "cell_type": "markdown",
   "metadata": {},
   "source": [
    "## Logistic Regression"
   ]
  },
  {
   "cell_type": "code",
   "execution_count": 25,
   "metadata": {},
   "outputs": [],
   "source": [
    "X_train = train.drop(\"Approval\",axis=1)\n",
    "y_train = train[\"Approval\"]\n",
    "\n",
    "X_test = test.drop(\"Approval\",axis=1)\n",
    "y_test = test[\"Approval\"]"
   ]
  },
  {
   "cell_type": "code",
   "execution_count": 26,
   "metadata": {},
   "outputs": [],
   "source": [
    "from sklearn.linear_model import LogisticRegression\n",
    "logmodel = LogisticRegression()\n",
    "\n",
    "from sklearn import preprocessing\n",
    "lab_enc = preprocessing.LabelEncoder()\n",
    "y_train = lab_enc.fit_transform(y_train)"
   ]
  },
  {
   "cell_type": "code",
   "execution_count": 27,
   "metadata": {},
   "outputs": [
    {
     "name": "stderr",
     "output_type": "stream",
     "text": [
      "/Users/apple/opt/anaconda3/lib/python3.7/site-packages/sklearn/linear_model/logistic.py:432: FutureWarning: Default solver will be changed to 'lbfgs' in 0.22. Specify a solver to silence this warning.\n",
      "  FutureWarning)\n",
      "/Users/apple/opt/anaconda3/lib/python3.7/site-packages/sklearn/linear_model/logistic.py:469: FutureWarning: Default multi_class will be changed to 'auto' in 0.22. Specify the multi_class option to silence this warning.\n",
      "  \"this warning.\", FutureWarning)\n"
     ]
    }
   ],
   "source": [
    "logmodel.fit(X_train, y_train)\n",
    "predictions=logmodel.predict(X_test)"
   ]
  },
  {
   "cell_type": "code",
   "execution_count": 31,
   "metadata": {},
   "outputs": [
    {
     "name": "stdout",
     "output_type": "stream",
     "text": [
      "Confusion Matrix: \n",
      "[[   0  597    0    0]\n",
      " [   0 8386    0    0]\n",
      " [   0 4435    1    0]\n",
      " [   0 1342    0    0]]\n",
      "Classification Report: \n",
      "              precision    recall  f1-score   support\n",
      "\n",
      "           0       0.00      0.00      0.00       597\n",
      "           1       0.57      1.00      0.72      8386\n",
      "           2       1.00      0.00      0.00      4436\n",
      "           3       0.00      0.00      0.00      1342\n",
      "\n",
      "    accuracy                           0.57     14761\n",
      "   macro avg       0.39      0.25      0.18     14761\n",
      "weighted avg       0.62      0.57      0.41     14761\n",
      "\n",
      "Accuracy: \n",
      "0.5681864372332498\n"
     ]
    }
   ],
   "source": [
    "from sklearn.metrics import confusion_matrix\n",
    "from sklearn.metrics import classification_report\n",
    "from sklearn import preprocessing\n",
    "from sklearn.metrics import accuracy_score\n",
    "\n",
    "print('Confusion Matrix: ')\n",
    "print(confusion_matrix(y_test, predictions))\n",
    "\n",
    "lab_enc = preprocessing.LabelEncoder()\n",
    "y_test = lab_enc.fit_transform(y_test)\n",
    "print('Classification Report: ')\n",
    "print(classification_report(y_test, predictions))\n",
    "\n",
    "lr_accuracy = accuracy_score(y_test,predictions)\n",
    "print('Accuracy: ')\n",
    "print(lr_accuracy)"
   ]
  },
  {
   "cell_type": "markdown",
   "metadata": {},
   "source": [
    "## Decision Tree for Classification"
   ]
  },
  {
   "cell_type": "code",
   "execution_count": 33,
   "metadata": {},
   "outputs": [],
   "source": [
    "X_train = train.drop(\"Approval\",axis=1)\n",
    "y_train = train[\"Approval\"]\n",
    "\n",
    "X_test = test.drop(\"Approval\",axis=1)\n",
    "y_test = test[\"Approval\"]"
   ]
  },
  {
   "cell_type": "code",
   "execution_count": 34,
   "metadata": {},
   "outputs": [],
   "source": [
    "from sklearn.tree import DecisionTreeClassifier\n",
    "dt=DecisionTreeClassifier()\n",
    "\n",
    "from sklearn import preprocessing\n",
    "lab_enc=preprocessing.LabelEncoder()\n",
    "y_train=lab_enc.fit_transform(y_train)\n",
    "\n",
    "dt.fit(X_train, y_train)\n",
    "y_pred=dt.predict(X_test)"
   ]
  },
  {
   "cell_type": "code",
   "execution_count": 35,
   "metadata": {},
   "outputs": [],
   "source": [
    "from sklearn import preprocessing\n",
    "lab_enc = preprocessing.LabelEncoder()\n",
    "y_test = lab_enc.fit_transform(y_test)"
   ]
  },
  {
   "cell_type": "code",
   "execution_count": 37,
   "metadata": {},
   "outputs": [
    {
     "name": "stdout",
     "output_type": "stream",
     "text": [
      "Confusion Matrix: \n",
      "[[ 596    1    0    0]\n",
      " [   0 8381    5    0]\n",
      " [   0    0 4436    0]\n",
      " [   0    0    0 1342]]\n",
      "Classification Report: \n",
      "              precision    recall  f1-score   support\n",
      "\n",
      "           0       1.00      1.00      1.00       597\n",
      "           1       1.00      1.00      1.00      8386\n",
      "           2       1.00      1.00      1.00      4436\n",
      "           3       1.00      1.00      1.00      1342\n",
      "\n",
      "    accuracy                           1.00     14761\n",
      "   macro avg       1.00      1.00      1.00     14761\n",
      "weighted avg       1.00      1.00      1.00     14761\n",
      "\n",
      "Accuracy: \n",
      "0.9995935234740194\n"
     ]
    }
   ],
   "source": [
    "print('Confusion Matrix: ')\n",
    "print(confusion_matrix(y_test, y_pred))\n",
    "\n",
    "lab_enc = preprocessing.LabelEncoder()\n",
    "y_test = lab_enc.fit_transform(y_test)\n",
    "print('Classification Report: ')\n",
    "print(classification_report(y_test, y_pred))\n",
    "\n",
    "dt_accuracy = accuracy_score(y_test,y_pred)\n",
    "print('Accuracy: ')\n",
    "print(dt_accuracy)"
   ]
  },
  {
   "cell_type": "markdown",
   "metadata": {},
   "source": [
    "# Random Forest Classification"
   ]
  },
  {
   "cell_type": "code",
   "execution_count": 52,
   "metadata": {},
   "outputs": [],
   "source": [
    "X_train = train.drop([\"Approval\"],axis=1)\n",
    "y_train = train[\"Approval\"]\n",
    "\n",
    "X_test = test.drop([\"Approval\"],axis=1)\n",
    "y_test = test[\"Approval\"]"
   ]
  },
  {
   "cell_type": "code",
   "execution_count": 53,
   "metadata": {},
   "outputs": [],
   "source": [
    "from sklearn.preprocessing import StandardScaler\n",
    "\n",
    "sc=StandardScaler()\n",
    "X_train=sc.fit_transform(X_train)\n",
    "X_test=sc.transform(X_test)"
   ]
  },
  {
   "cell_type": "code",
   "execution_count": 54,
   "metadata": {},
   "outputs": [],
   "source": [
    "from sklearn import preprocessing\n",
    "lab_enc=preprocessing.LabelEncoder()\n",
    "y_train=lab_enc.fit_transform(y_train)\n",
    "\n",
    "from sklearn import preprocessing\n",
    "lab_enc=preprocessing.LabelEncoder()\n",
    "y_test=lab_enc.fit_transform(y_test)"
   ]
  },
  {
   "cell_type": "code",
   "execution_count": 55,
   "metadata": {},
   "outputs": [],
   "source": [
    "from sklearn.ensemble import RandomForestClassifier\n",
    "\n",
    "classifier=RandomForestClassifier(n_estimators=100, random_state=0)\n",
    "classifier.fit(X_train, y_train)\n",
    "y_pred=classifier.predict(X_test)"
   ]
  },
  {
   "cell_type": "code",
   "execution_count": 56,
   "metadata": {},
   "outputs": [
    {
     "name": "stdout",
     "output_type": "stream",
     "text": [
      "Confusion Matrix: \n",
      "[[ 587   10    0    0]\n",
      " [   0 8381    5    0]\n",
      " [   0    0 4436    0]\n",
      " [   0    0    0 1342]]\n",
      "Classification Report: \n",
      "              precision    recall  f1-score   support\n",
      "\n",
      "           0       1.00      0.98      0.99       597\n",
      "           1       1.00      1.00      1.00      8386\n",
      "           2       1.00      1.00      1.00      4436\n",
      "           3       1.00      1.00      1.00      1342\n",
      "\n",
      "    accuracy                           1.00     14761\n",
      "   macro avg       1.00      1.00      1.00     14761\n",
      "weighted avg       1.00      1.00      1.00     14761\n",
      "\n",
      "Accuracy: \n",
      "0.9989838086850484\n"
     ]
    }
   ],
   "source": [
    "print('Confusion Matrix: ')\n",
    "print(confusion_matrix(y_test, y_pred))\n",
    "\n",
    "lab_enc = preprocessing.LabelEncoder()\n",
    "y_test = lab_enc.fit_transform(y_test)\n",
    "print('Classification Report: ')\n",
    "print(classification_report(y_test, y_pred))\n",
    "\n",
    "rf_accuracy = accuracy_score(y_test,y_pred)\n",
    "print('Accuracy: ')\n",
    "print(rf_accuracy)"
   ]
  },
  {
   "cell_type": "markdown",
   "metadata": {},
   "source": [
    "# PCA Analysis"
   ]
  },
  {
   "cell_type": "code",
   "execution_count": 44,
   "metadata": {},
   "outputs": [],
   "source": [
    "X_train = train.drop([\"Approval\"],axis=1)\n",
    "y_train = train[\"Approval\"]\n",
    "\n",
    "X_test = test.drop([\"Approval\"],axis=1)\n",
    "y_test = test[\"Approval\"]"
   ]
  },
  {
   "cell_type": "code",
   "execution_count": 45,
   "metadata": {},
   "outputs": [],
   "source": [
    "from sklearn.preprocessing import StandardScaler \n",
    "sc = StandardScaler() \n",
    "  \n",
    "X_train = sc.fit_transform(X_train) \n",
    "X_test = sc.transform(X_test)"
   ]
  },
  {
   "cell_type": "code",
   "execution_count": 46,
   "metadata": {},
   "outputs": [],
   "source": [
    "from sklearn import preprocessing\n",
    "lab_enc=preprocessing.LabelEncoder()\n",
    "y_train=lab_enc.fit_transform(y_train)\n",
    "\n",
    "from sklearn import preprocessing\n",
    "lab_enc=preprocessing.LabelEncoder()\n",
    "y_test=lab_enc.fit_transform(y_test)"
   ]
  },
  {
   "cell_type": "code",
   "execution_count": 47,
   "metadata": {},
   "outputs": [
    {
     "name": "stderr",
     "output_type": "stream",
     "text": [
      "/Users/apple/opt/anaconda3/lib/python3.7/site-packages/sklearn/linear_model/logistic.py:432: FutureWarning: Default solver will be changed to 'lbfgs' in 0.22. Specify a solver to silence this warning.\n",
      "  FutureWarning)\n",
      "/Users/apple/opt/anaconda3/lib/python3.7/site-packages/sklearn/linear_model/logistic.py:469: FutureWarning: Default multi_class will be changed to 'auto' in 0.22. Specify the multi_class option to silence this warning.\n",
      "  \"this warning.\", FutureWarning)\n"
     ]
    }
   ],
   "source": [
    "from sklearn.decomposition import PCA \n",
    "  \n",
    "pca = PCA(n_components = 2) \n",
    "  \n",
    "X_train = pca.fit_transform(X_train) \n",
    "X_test = pca.transform(X_test) \n",
    "  \n",
    "explained_variance = pca.explained_variance_ratio_ \n",
    "\n",
    "classifier = LogisticRegression(random_state = 0) \n",
    "classifier.fit(X_train, y_train)\n",
    "y_pred = classifier.predict(X_test)"
   ]
  },
  {
   "cell_type": "code",
   "execution_count": 48,
   "metadata": {},
   "outputs": [
    {
     "name": "stdout",
     "output_type": "stream",
     "text": [
      "Confusion Matrix: \n",
      "[[   0  597    0    0]\n",
      " [   0 8386    0    0]\n",
      " [   0 4436    0    0]\n",
      " [   0 1342    0    0]]\n",
      "Classification Report: \n",
      "              precision    recall  f1-score   support\n",
      "\n",
      "           0       0.00      0.00      0.00       597\n",
      "           1       0.57      1.00      0.72      8386\n",
      "           2       0.00      0.00      0.00      4436\n",
      "           3       0.00      0.00      0.00      1342\n",
      "\n",
      "    accuracy                           0.57     14761\n",
      "   macro avg       0.14      0.25      0.18     14761\n",
      "weighted avg       0.32      0.57      0.41     14761\n",
      "\n",
      "Accuracy: \n",
      "0.5681186911455863\n"
     ]
    },
    {
     "name": "stderr",
     "output_type": "stream",
     "text": [
      "/Users/apple/opt/anaconda3/lib/python3.7/site-packages/sklearn/metrics/classification.py:1437: UndefinedMetricWarning: Precision and F-score are ill-defined and being set to 0.0 in labels with no predicted samples.\n",
      "  'precision', 'predicted', average, warn_for)\n"
     ]
    }
   ],
   "source": [
    "print('Confusion Matrix: ')\n",
    "print(confusion_matrix(y_test, y_pred))\n",
    "\n",
    "lab_enc = preprocessing.LabelEncoder()\n",
    "y_test = lab_enc.fit_transform(y_test)\n",
    "print('Classification Report: ')\n",
    "print(classification_report(y_test, y_pred))\n",
    "\n",
    "pca_accuracy = accuracy_score(y_test,y_pred)\n",
    "print('Accuracy: ')\n",
    "print(pca_accuracy)"
   ]
  },
  {
   "cell_type": "markdown",
   "metadata": {},
   "source": [
    "# Plotting the Model using Accuracy of Different Models"
   ]
  },
  {
   "cell_type": "code",
   "execution_count": 51,
   "metadata": {},
   "outputs": [
    {
     "data": {
      "image/png": "[encoded data removed]",
      "text/plain": [
       "<Figure size 432x288 with 1 Axes>"
      ]
     },
     "metadata": {
      "needs_background": "light"
     },
     "output_type": "display_data"
    }
   ],
   "source": [
    "import matplotlib.pyplot as plt\n",
    "objects=(\"Logistic Regression\",\"Decision Tree\",\"Random Forest\",\"PCA Analysis\")\n",
    "y_pos=np.arange(len(objects))\n",
    "performance=[lr_accuracy, dt_accuracy, rf_accuracy, pca_accuracy]\n",
    "\n",
    "plt.bar(y_pos, performance, align='center', alpha=0.5)\n",
    "plt.xticks(y_pos, objects)\n",
    "plt.ylabel('Accuracy of Different Models')\n",
    "plt.title('Models Comparison for All Features')\n",
    "\n",
    "plt.show()"
   ]
  },
  {
   "cell_type": "code",
   "execution_count": 65,
   "metadata": {},
   "outputs": [
    {
     "data": {
      "text/html": [
       "<div>\n",
       "<style scoped>\n",
       "    .dataframe tbody tr th:only-of-type {\n",
       "        vertical-align: middle;\n",
       "    }\n",
       "\n",
       "    .dataframe tbody tr th {\n",
       "        vertical-align: top;\n",
       "    }\n",
       "\n",
       "    .dataframe thead th {\n",
       "        text-align: right;\n",
       "    }\n",
       "</style>\n",
       "<table border=\"1\" class=\"dataframe\">\n",
       "  <thead>\n",
       "    <tr style=\"text-align: right;\">\n",
       "      <th></th>\n",
       "      <th>LN_ID</th>\n",
       "      <th>Score</th>\n",
       "      <th>Value</th>\n",
       "    </tr>\n",
       "  </thead>\n",
       "  <tbody>\n",
       "    <tr>\n",
       "      <td>10101</td>\n",
       "      <td>343494</td>\n",
       "      <td>1.023562</td>\n",
       "      <td>Very Low Risk</td>\n",
       "    </tr>\n",
       "    <tr>\n",
       "      <td>13456</td>\n",
       "      <td>425177</td>\n",
       "      <td>1.026026</td>\n",
       "      <td>Very Low Risk</td>\n",
       "    </tr>\n",
       "    <tr>\n",
       "      <td>3920</td>\n",
       "      <td>196302</td>\n",
       "      <td>1.030000</td>\n",
       "      <td>Very Low Risk</td>\n",
       "    </tr>\n",
       "    <tr>\n",
       "      <td>307</td>\n",
       "      <td>107490</td>\n",
       "      <td>1.050000</td>\n",
       "      <td>Very Low Risk</td>\n",
       "    </tr>\n",
       "    <tr>\n",
       "      <td>1522</td>\n",
       "      <td>137940</td>\n",
       "      <td>1.050031</td>\n",
       "      <td>Very Low Risk</td>\n",
       "    </tr>\n",
       "    <tr>\n",
       "      <td>...</td>\n",
       "      <td>...</td>\n",
       "      <td>...</td>\n",
       "      <td>...</td>\n",
       "    </tr>\n",
       "    <tr>\n",
       "      <td>8014</td>\n",
       "      <td>293838</td>\n",
       "      <td>37.150000</td>\n",
       "      <td>Very High Risk</td>\n",
       "    </tr>\n",
       "    <tr>\n",
       "      <td>2407</td>\n",
       "      <td>160620</td>\n",
       "      <td>37.258950</td>\n",
       "      <td>Very High Risk</td>\n",
       "    </tr>\n",
       "    <tr>\n",
       "      <td>6072</td>\n",
       "      <td>247381</td>\n",
       "      <td>38.097220</td>\n",
       "      <td>Very High Risk</td>\n",
       "    </tr>\n",
       "    <tr>\n",
       "      <td>1839</td>\n",
       "      <td>146009</td>\n",
       "      <td>38.170760</td>\n",
       "      <td>Very High Risk</td>\n",
       "    </tr>\n",
       "    <tr>\n",
       "      <td>5782</td>\n",
       "      <td>239731</td>\n",
       "      <td>40.189867</td>\n",
       "      <td>Very High Risk</td>\n",
       "    </tr>\n",
       "  </tbody>\n",
       "</table>\n",
       "<p>14761 rows × 3 columns</p>\n",
       "</div>"
      ],
      "text/plain": [
       "        LN_ID      Score           Value\n",
       "10101  343494   1.023562   Very Low Risk\n",
       "13456  425177   1.026026   Very Low Risk\n",
       "3920   196302   1.030000   Very Low Risk\n",
       "307    107490   1.050000   Very Low Risk\n",
       "1522   137940   1.050031   Very Low Risk\n",
       "...       ...        ...             ...\n",
       "8014   293838  37.150000  Very High Risk\n",
       "2407   160620  37.258950  Very High Risk\n",
       "6072   247381  38.097220  Very High Risk\n",
       "1839   146009  38.170760  Very High Risk\n",
       "5782   239731  40.189867  Very High Risk\n",
       "\n",
       "[14761 rows x 3 columns]"
      ]
     },
     "execution_count": 65,
     "metadata": {},
     "output_type": "execute_result"
    }
   ],
   "source": [
    "ln_id = test['LN_ID'].to_list()\n",
    "beh = test['Behavior'].to_list()\n",
    "app = test['Approval'].to_list()\n",
    "\n",
    "result = {'LN_ID': ln_id, 'Score': beh, 'Value': app}\n",
    "result = pd.DataFrame(result)\n",
    "result = result.sort_values(['Score'], ascending=[True])\n",
    "\n",
    "val = result['Value'].to_list()\n",
    "ap = []\n",
    "for item in val:\n",
    "    if item == 0:\n",
    "        x = 'Very Low Risk'\n",
    "    elif item == 1:\n",
    "        x = 'Low Risk'\n",
    "    elif item == 2:\n",
    "        x = 'Medium Risk'\n",
    "    elif item == 3:\n",
    "        x = 'High Risk'\n",
    "    elif item == 4:\n",
    "        x = 'Very High Risk'\n",
    "    ap.append(x)\n",
    "result['Value'] = ap\n",
    "result"
   ]
  },
  {
   "cell_type": "code",
   "execution_count": 66,
   "metadata": {},
   "outputs": [],
   "source": [
    "result.to_csv('rank.csv')"
   ]
  },
  {
   "cell_type": "code",
   "execution_count": null,
   "metadata": {},
   "outputs": [],
   "source": []
  }
 ],
 "metadata": {
  "kernelspec": {
   "display_name": "Python 3",
   "language": "python",
   "name": "python3"
  },
  "language_info": {
   "codemirror_mode": {
    "name": "ipython",
    "version": 3
   },
   "file_extension": ".py",
   "mimetype": "text/x-python",
   "name": "python",
   "nbconvert_exporter": "python",
   "pygments_lexer": "ipython3",
   "version": "3.7.4"
  }
 },
 "nbformat": 4,
 "nbformat_minor": 4
}
